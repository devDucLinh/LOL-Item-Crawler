{
 "cells": [
  {
   "attachments": {},
   "cell_type": "markdown",
   "metadata": {},
   "source": [
    "## Import thư viện "
   ]
  },
  {
   "cell_type": "code",
   "execution_count": 39,
   "metadata": {},
   "outputs": [],
   "source": [
    "import requests\n",
    "import pandas as pd\n",
    "import warnings\n",
    "warnings.filterwarnings('ignore')"
   ]
  },
  {
   "attachments": {},
   "cell_type": "markdown",
   "metadata": {},
   "source": [
    "## Load dữ liệu"
   ]
  },
  {
   "cell_type": "code",
   "execution_count": 40,
   "metadata": {},
   "outputs": [],
   "source": [
    "# Chọn phiên bản mới nhất và ngôn ngữ tiếng Việt\n",
    "url = 'https://ddragon.leagueoflegends.com/api/versions.json'\n",
    "r = requests.get(url)\n",
    "version = r.json()[0]\n",
    "language = \"vi_VN\""
   ]
  },
  {
   "cell_type": "code",
   "execution_count": 41,
   "metadata": {},
   "outputs": [
    {
     "name": "stdout",
     "output_type": "stream",
     "text": [
      "Lấy thông tin vật phẩm thành công\n"
     ]
    }
   ],
   "source": [
    "# Tạo URL \n",
    "url = f\"https://ddragon.leagueoflegends.com/cdn/{version}/data/{language}/item.json\"\n",
    "\n",
    "# Gửi yêu cầu GET đến API của Riot Games\n",
    "response = requests.get(url)\n",
    "\n",
    "# Kiểm tra mã trạng thái phản hồi có phải là 200 hay không\n",
    "if response.status_code == 200:\n",
    "    # Lấy thông tin vật phẩm \n",
    "    items = response.json()['data']\n",
    "    print('Lấy thông tin vật phẩm thành công')\n",
    "else:\n",
    "    # Xử lý lỗi tại đây nếu có\n",
    "    print(f\"Request failed with error code {response.status_code}\")"
   ]
  },
  {
   "cell_type": "code",
   "execution_count": 42,
   "metadata": {},
   "outputs": [
    {
     "name": "stdout",
     "output_type": "stream",
     "text": [
      "Lấy thông tin bản đồ thành công\n"
     ]
    }
   ],
   "source": [
    "# Tạo URL \n",
    "url = f\"https://ddragon.leagueoflegends.com/cdn/{version}/data/{language}/map.json\"\n",
    "# Gửi yêu cầu GET đến API của Riot Games\n",
    "response = requests.get(url)\n",
    "\n",
    "# Kiểm tra mã trạng thái phản hồi có phải là 200 hay không\n",
    "if response.status_code == 200:\n",
    "    # Lấy thông tin bản đồ\n",
    "    maps = response.json()['data']\n",
    "    # Đưa maps sang dataframe\n",
    "    maps = pd.DataFrame(maps).T\n",
    "    print('Lấy thông tin bản đồ thành công')\n",
    "else:\n",
    "    # Xử lý lỗi tại đây nếu có\n",
    "    print(f\"Request failed with error code {response.status_code}\")"
   ]
  },
  {
   "attachments": {},
   "cell_type": "markdown",
   "metadata": {},
   "source": [
    "## Tiền xử lý dữ liệu"
   ]
  },
  {
   "cell_type": "code",
   "execution_count": 43,
   "metadata": {},
   "outputs": [],
   "source": [
    "# Tạo DataFrame từ thông tin vật phẩm\n",
    "df = pd.DataFrame(items).T\n",
    "# Lấy tên, thông số và giá của vật phẩm\n",
    "item = df[['name', 'stats', 'gold', 'maps', 'image']]"
   ]
  },
  {
   "cell_type": "code",
   "execution_count": 44,
   "metadata": {},
   "outputs": [],
   "source": [
    "# Xóa các giá trị False trong dict maps\n",
    "item['maps'] = item['maps'].apply(lambda x: {k: v for k, v in x.items() if v != False})"
   ]
  },
  {
   "cell_type": "code",
   "execution_count": 45,
   "metadata": {},
   "outputs": [],
   "source": [
    "# Tách cột stats, gold thành các cột riêng biệt\n",
    "item = pd.concat([item.drop(['stats'], axis=1), item['stats'].apply(pd.Series)], axis=1)\n",
    "item = pd.concat([item.drop(['gold'], axis=1), item['gold'].apply(pd.Series)], axis=1)\n"
   ]
  },
  {
   "cell_type": "code",
   "execution_count": 46,
   "metadata": {},
   "outputs": [],
   "source": [
    "# Tạo image URL\n",
    "item['image'] = item['image'].apply(lambda x: f\"https://ddragon.leagueoflegends.com/cdn/{version}/img/item/{x['full']}\")\n"
   ]
  },
  {
   "cell_type": "code",
   "execution_count": 47,
   "metadata": {},
   "outputs": [
    {
     "data": {
      "text/plain": [
       "Index(['name', 'maps', 'image', 'FlatMovementSpeedMod', 'FlatHPPoolMod',\n",
       "       'FlatCritChanceMod', 'FlatMagicDamageMod', 'FlatMPPoolMod',\n",
       "       'FlatArmorMod', 'FlatSpellBlockMod', 'FlatPhysicalDamageMod',\n",
       "       'PercentAttackSpeedMod', 'PercentLifeStealMod', 'FlatHPRegenMod',\n",
       "       'PercentMovementSpeedMod', 'base', 'purchasable', 'total', 'sell'],\n",
       "      dtype='object')"
      ]
     },
     "execution_count": 47,
     "metadata": {},
     "output_type": "execute_result"
    }
   ],
   "source": [
    "# Tên cột \n",
    "item.columns"
   ]
  },
  {
   "cell_type": "code",
   "execution_count": 48,
   "metadata": {},
   "outputs": [],
   "source": [
    "# Đổi tên cột\n",
    "item = item.rename(columns={\n",
    "'name' : 'Tên vật phẩm',\n",
    "'maps' : 'Bản đồ',\n",
    "'image' : 'Hình ảnh',\n",
    "'FlatMovementSpeedMod' : 'Tốc độ di chuyển',\n",
    "'FlatHPPoolMod' : 'Máu',\n",
    "'FlatCritChanceMod' : 'Tỉ lệ chí mạng',\n",
    "'FlatMagicDamageMod' : 'Sát thương phép',\n",
    "'FlatMPPoolMod' : 'Năng lượng',\n",
    "'FlatArmorMod' : 'Giáp',\n",
    "'FlatSpellBlockMod' : 'Kháng phép',\n",
    "'FlatPhysicalDamageMod' : 'Sát thương vật lý',\n",
    "'PercentAttackSpeedMod' : 'Tốc độ đánh',\n",
    "'PercentLifeStealMod' : 'Hút máu',\n",
    "'FlatHPRegenMod' : 'Hồi máu',\n",
    "'PercentMovementSpeedMod' : 'Tỉ lệ tốc độ di chuyển',\n",
    "'base' : 'Giá nâng cấp',\n",
    "'purchasable' : 'Có thể mua',\n",
    "'total' : 'Giá mua',\n",
    "'sell' : 'Giá bán'\n",
    "})\n"
   ]
  },
  {
   "cell_type": "code",
   "execution_count": 49,
   "metadata": {},
   "outputs": [],
   "source": [
    "# Điền giá trị NaN bằng 0\n",
    "item = item.fillna(0)"
   ]
  },
  {
   "attachments": {},
   "cell_type": "markdown",
   "metadata": {},
   "source": [
    "## Tính giá trị vật phẩm dựa vào chỉ số"
   ]
  },
  {
   "cell_type": "code",
   "execution_count": 50,
   "metadata": {},
   "outputs": [],
   "source": [
    "ChiSo = ['Tốc độ di chuyển', 'Máu', 'Tỉ lệ chí mạng',\n",
    "       'Sát thương phép', 'Năng lượng', 'Giáp', 'Kháng phép',\n",
    "       'Sát thương vật lý', 'Tốc độ đánh', 'Hút máu', 'Hồi máu',\n",
    "       'Tỉ lệ tốc độ di chuyển']"
   ]
  },
  {
   "cell_type": "code",
   "execution_count": 51,
   "metadata": {},
   "outputs": [],
   "source": [
    "# Tính số tiền mỗi 1 đơn vị chỉ số\n",
    "price = pd.DataFrame()\n",
    "\n",
    "for col in ChiSo:\n",
    "    price[col] = item['Giá mua'] / item[col]     "
   ]
  },
  {
   "cell_type": "code",
   "execution_count": 52,
   "metadata": {},
   "outputs": [],
   "source": [
    "# Tính giá trị của vật phẩm\n",
    "item['Giá trị chỉ số'] = 0\n",
    "for col in item.columns:\n",
    "    if col in ChiSo:\n",
    "        item['Giá trị chỉ số'] += item[col] * price.min()[col]"
   ]
  },
  {
   "cell_type": "code",
   "execution_count": 53,
   "metadata": {},
   "outputs": [],
   "source": [
    "# Thêm cột hiệu quả \n",
    "item['Hiệu quả'] = item.apply(lambda row: row['Giá trị chỉ số'] / row['Giá mua'] if row['Giá mua'] != 0 else 0, axis=1)"
   ]
  },
  {
   "cell_type": "code",
   "execution_count": 54,
   "metadata": {},
   "outputs": [],
   "source": [
    "min_price = pd.DataFrame()\n",
    "for col in ChiSo:\n",
    "    min_item = item.loc[price[col].idxmin()]\n",
    "    if pd.notnull(min_item[col]):\n",
    "        min_price[col] = [min_item['Tên vật phẩm'], min_item['Hình ảnh'],min_item[col], min_item['Giá mua'], \n",
    "        min_item['Giá mua']/min_item[col]]"
   ]
  },
  {
   "cell_type": "code",
   "execution_count": 55,
   "metadata": {},
   "outputs": [],
   "source": [
    "# Đổi tên cột\n",
    "min_price = min_price.T.reset_index()\n",
    "min_price.columns = ['Chỉ số', 'Tên vật phẩm', 'Hình ảnh', 'Chỉ số', 'Giá mua', 'Giá trị cơ sở']"
   ]
  },
  {
   "cell_type": "code",
   "execution_count": 56,
   "metadata": {},
   "outputs": [],
   "source": [
    "# Tạo cột mới có tên là 'Chỉ số'\n",
    "item['Chỉ số'] = item.apply(lambda row: ' '.join([col + ': ' + str(row[col]) + ' \\n' for col in ChiSo if row[col] != 0]), axis=1)"
   ]
  },
  {
   "attachments": {},
   "cell_type": "markdown",
   "metadata": {},
   "source": [
    "## Lưu lại kết quả để trực quan hóa\n"
   ]
  },
  {
   "cell_type": "code",
   "execution_count": 58,
   "metadata": {},
   "outputs": [],
   "source": [
    "#item drop Có thể mua column \n",
    "item = item.drop(['Có thể mua'], axis=1)\n",
    "\n",
    "# Tách maps True thành các hàng dọc \n",
    "item = item.explode('Bản đồ')\n",
    "# Đổi tên item['maps'] dựa vào thông tin bản đồ\n",
    "item['Bản đồ'] = item['Bản đồ'].replace(maps['MapName'])"
   ]
  },
  {
   "cell_type": "code",
   "execution_count": 59,
   "metadata": {},
   "outputs": [],
   "source": [
    "item.to_csv('item.csv', index=False, encoding='utf-8-sig')\n",
    "min_price.to_csv('min_price.csv', index=False, encoding='utf-8-sig')"
   ]
  }
 ],
 "metadata": {
  "kernelspec": {
   "display_name": "envAuto",
   "language": "python",
   "name": "python3"
  },
  "language_info": {
   "codemirror_mode": {
    "name": "ipython",
    "version": 3
   },
   "file_extension": ".py",
   "mimetype": "text/x-python",
   "name": "python",
   "nbconvert_exporter": "python",
   "pygments_lexer": "ipython3",
   "version": "3.10.9"
  },
  "orig_nbformat": 4
 },
 "nbformat": 4,
 "nbformat_minor": 2
}
