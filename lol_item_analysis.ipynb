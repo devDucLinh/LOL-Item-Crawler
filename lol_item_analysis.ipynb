{
 "cells": [
  {
   "attachments": {},
   "cell_type": "markdown",
   "metadata": {},
   "source": [
    "## Import thư viện "
   ]
  },
  {
   "cell_type": "code",
   "execution_count": null,
   "metadata": {},
   "outputs": [],
   "source": [
    "import requests\n",
    "import pandas as pd\n",
    "import warnings\n",
    "warnings.filterwarnings('ignore')"
   ]
  },
  {
   "attachments": {},
   "cell_type": "markdown",
   "metadata": {},
   "source": [
    "## Load dữ liệu"
   ]
  },
  {
   "cell_type": "code",
   "execution_count": null,
   "metadata": {},
   "outputs": [],
   "source": [
    "# Chọn phiên bản mới nhất và ngôn ngữ tiếng Việt\n",
    "url = 'https://ddragon.leagueoflegends.com/api/versions.json'\n",
    "r = requests.get(url)\n",
    "version = r.json()[0]\n",
    "language = \"vi_VN\""
   ]
  },
  {
   "cell_type": "code",
   "execution_count": null,
   "metadata": {},
   "outputs": [],
   "source": [
    "# Tạo URL \n",
    "url = f\"https://ddragon.leagueoflegends.com/cdn/{version}/data/{language}/item.json\"\n",
    "\n",
    "# Gửi yêu cầu GET đến API của Riot Games\n",
    "response = requests.get(url)\n",
    "\n",
    "# Kiểm tra mã trạng thái phản hồi có phải là 200 hay không\n",
    "if response.status_code == 200:\n",
    "    # Lấy thông tin vật phẩm \n",
    "    items = response.json()['data']\n",
    "    print('Lấy thông tin vật phẩm thành công')\n",
    "else:\n",
    "    # Xử lý lỗi tại đây nếu có\n",
    "    print(f\"Request failed with error code {response.status_code}\")"
   ]
  },
  {
   "cell_type": "code",
   "execution_count": null,
   "metadata": {},
   "outputs": [],
   "source": [
    "# Tạo URL \n",
    "url = f\"https://ddragon.leagueoflegends.com/cdn/{version}/data/{language}/map.json\"\n",
    "# Gửi yêu cầu GET đến API của Riot Games\n",
    "response = requests.get(url)\n",
    "\n",
    "# Kiểm tra mã trạng thái phản hồi có phải là 200 hay không\n",
    "if response.status_code == 200:\n",
    "    # Lấy thông tin bản đồ\n",
    "    maps = response.json()['data']\n",
    "    # Đưa maps sang dataframe\n",
    "    maps = pd.DataFrame(maps).T\n",
    "    print('Lấy thông tin bản đồ thành công')\n",
    "else:\n",
    "    # Xử lý lỗi tại đây nếu có\n",
    "    print(f\"Request failed with error code {response.status_code}\")"
   ]
  },
  {
   "attachments": {},
   "cell_type": "markdown",
   "metadata": {},
   "source": [
    "## Tiền xử lý dữ liệu"
   ]
  },
  {
   "cell_type": "code",
   "execution_count": null,
   "metadata": {},
   "outputs": [],
   "source": [
    "# Tạo DataFrame từ thông tin vật phẩm\n",
    "df = pd.DataFrame(items).T\n",
    "# Lấy tên, thông số và giá của vật phẩm\n",
    "item = df[['name', 'stats', 'gold', 'maps']]"
   ]
  },
  {
   "cell_type": "code",
   "execution_count": null,
   "metadata": {},
   "outputs": [],
   "source": [
    "# Xóa các giá trị False trong dict maps\n",
    "item['maps'] = item['maps'].apply(lambda x: {k: v for k, v in x.items() if v != False})"
   ]
  },
  {
   "cell_type": "code",
   "execution_count": null,
   "metadata": {},
   "outputs": [],
   "source": [
    "# Tách cột stats, gold thành các cột riêng biệt\n",
    "item = pd.concat([item.drop(['stats'], axis=1), item['stats'].apply(pd.Series)], axis=1)\n",
    "item = pd.concat([item.drop(['gold'], axis=1), item['gold'].apply(pd.Series)], axis=1)\n"
   ]
  },
  {
   "cell_type": "code",
   "execution_count": null,
   "metadata": {},
   "outputs": [],
   "source": [
    "# Tên cột \n",
    "item.columns"
   ]
  },
  {
   "cell_type": "code",
   "execution_count": null,
   "metadata": {},
   "outputs": [],
   "source": [
    "# Đổi tên cột\n",
    "item = item.rename(columns={\n",
    "'name' : 'Tên vật phẩm',\n",
    "'maps' : 'Bản đồ',\n",
    "'FlatMovementSpeedMod' : 'Tốc độ di chuyển',\n",
    "'FlatHPPoolMod' : 'Máu',\n",
    "'FlatCritChanceMod' : 'Tỉ lệ chí mạng',\n",
    "'FlatMagicDamageMod' : 'Sát thương phép',\n",
    "'FlatMPPoolMod' : 'Năng lượng',\n",
    "'FlatArmorMod' : 'Giáp',\n",
    "'FlatSpellBlockMod' : 'Kháng phép',\n",
    "'FlatPhysicalDamageMod' : 'Sát thương vật lý',\n",
    "'PercentAttackSpeedMod' : 'Tốc độ đánh',\n",
    "'PercentLifeStealMod' : 'Hút máu',\n",
    "'FlatHPRegenMod' : 'Hồi máu',\n",
    "'PercentMovementSpeedMod' : 'Tỉ lệ tốc độ di chuyển',\n",
    "'base' : 'Giá nâng cấp',\n",
    "'purchasable' : 'Có thể mua',\n",
    "'total' : 'Giá mua',\n",
    "'sell' : 'Giá bán'\n",
    "})\n"
   ]
  },
  {
   "cell_type": "code",
   "execution_count": null,
   "metadata": {},
   "outputs": [],
   "source": [
    "# Điền giá trị NaN bằng 0\n",
    "item = item.fillna(0)"
   ]
  },
  {
   "attachments": {},
   "cell_type": "markdown",
   "metadata": {},
   "source": [
    "## Tính giá trị vật phẩm dựa vào chỉ số"
   ]
  },
  {
   "cell_type": "code",
   "execution_count": null,
   "metadata": {},
   "outputs": [],
   "source": [
    "ChiSo = ['Tốc độ di chuyển', 'Máu', 'Tỉ lệ chí mạng',\n",
    "       'Sát thương phép', 'Năng lượng', 'Giáp', 'Kháng phép',\n",
    "       'Sát thương vật lý', 'Tốc độ đánh', 'Hút máu', 'Hồi máu',\n",
    "       'Tỉ lệ tốc độ di chuyển']"
   ]
  },
  {
   "cell_type": "code",
   "execution_count": null,
   "metadata": {},
   "outputs": [],
   "source": [
    "# Tính số tiền mỗi 1 đơn vị chỉ số\n",
    "price = pd.DataFrame()\n",
    "\n",
    "for col in ChiSo:\n",
    "    price[col] = item['Giá mua'] / item[col]     "
   ]
  },
  {
   "cell_type": "code",
   "execution_count": null,
   "metadata": {},
   "outputs": [],
   "source": [
    "# Lưu lại tên vật phẩm và giá trị chỉ số cơ sở\n",
    "min_price = pd.DataFrame()\n",
    "for col in ChiSo:\n",
    "    min_price[col] = item.loc[price[col].idxmin()]"
   ]
  },
  {
   "cell_type": "code",
   "execution_count": null,
   "metadata": {},
   "outputs": [],
   "source": [
    "# Tính giá trị của vật phẩm\n",
    "item['Giá trị chỉ số'] = 0\n",
    "for col in item.columns:\n",
    "    if col in ChiSo:\n",
    "        item['Giá trị chỉ số'] += item[col] * price[col]"
   ]
  },
  {
   "cell_type": "code",
   "execution_count": null,
   "metadata": {},
   "outputs": [],
   "source": [
    "# Thêm cột hiệu quả \n",
    "item['Hiệu quả'] = item.apply(lambda row: row['Giá trị chỉ số'] / row['Giá mua'] if row['Giá mua'] != 0 else 0, axis=1)"
   ]
  },
  {
   "attachments": {},
   "cell_type": "markdown",
   "metadata": {},
   "source": [
    "## Lưu lại kết quả để trực quan hóa\n"
   ]
  },
  {
   "cell_type": "code",
   "execution_count": null,
   "metadata": {},
   "outputs": [],
   "source": [
    "#item drop Có thể mua column \n",
    "item = item.drop(['Có thể mua'], axis=1)\n",
    "\n",
    "# Tách maps True thành các hàng dọc \n",
    "item = item.explode('Bản đồ')\n",
    "# Đổi tên item['maps'] dựa vào thông tin bản đồ\n",
    "item['Bản đồ'] = item['Bản đồ'].replace(maps['MapName'])"
   ]
  },
  {
   "cell_type": "code",
   "execution_count": null,
   "metadata": {},
   "outputs": [],
   "source": [
    "item.to_csv('item.csv', index=False, encoding='utf-8-sig')\n",
    "min_price.to_csv('min_price.csv', index=False, encoding='utf-8-sig')"
   ]
  }
 ],
 "metadata": {
  "kernelspec": {
   "display_name": "envAuto",
   "language": "python",
   "name": "python3"
  },
  "language_info": {
   "codemirror_mode": {
    "name": "ipython",
    "version": 3
   },
   "file_extension": ".py",
   "mimetype": "text/x-python",
   "name": "python",
   "nbconvert_exporter": "python",
   "pygments_lexer": "ipython3",
   "version": "3.10.9"
  },
  "orig_nbformat": 4
 },
 "nbformat": 4,
 "nbformat_minor": 2
}
